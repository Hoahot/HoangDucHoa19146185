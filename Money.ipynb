{
  "nbformat": 4,
  "nbformat_minor": 0,
  "metadata": {
    "colab": {
      "name": "Money.ipynb",
      "provenance": [],
      "collapsed_sections": [],
      "mount_file_id": "1-QjFNc_rxQ-jrT0JmyKkn_xjuSkjQl-i",
      "authorship_tag": "ABX9TyNMPwd6ncChfF5+gKfng4tC",
      "include_colab_link": true
    },
    "kernelspec": {
      "name": "python3",
      "display_name": "Python 3"
    },
    "language_info": {
      "name": "python"
    }
  },
  "cells": [
    {
      "cell_type": "markdown",
      "metadata": {
        "id": "view-in-github",
        "colab_type": "text"
      },
      "source": [
        "<a href=\"https://colab.research.google.com/github/Hoahot/HoangDucHoa19146185/blob/main/Money.ipynb\" target=\"_parent\"><img src=\"https://colab.research.google.com/assets/colab-badge.svg\" alt=\"Open In Colab\"/></a>"
      ]
    },
    {
      "cell_type": "code",
      "execution_count": 6,
      "metadata": {
        "colab": {
          "base_uri": "https://localhost:8080/",
          "height": 503
        },
        "id": "R0O-p4vqYcqn",
        "outputId": "895f28e2-c619-4fd2-9d6d-3a2e3432b3bb"
      },
      "outputs": [
        {
          "output_type": "stream",
          "name": "stdout",
          "text": [
            "Found 70 images belonging to 7 classes.\n",
            "Found 21 images belonging to 7 classes.\n",
            "Epoch 1/5\n",
            "3/3 [==============================] - 36s 12s/step - loss: 93.4279 - accuracy: 0.1143 - val_loss: 61.9682 - val_accuracy: 0.1429\n",
            "Epoch 2/5\n",
            "3/3 [==============================] - 26s 8s/step - loss: 42.3939 - accuracy: 0.1571 - val_loss: 26.8880 - val_accuracy: 0.1429\n",
            "Epoch 3/5\n",
            "3/3 [==============================] - 23s 6s/step - loss: 29.8768 - accuracy: 0.1571 - val_loss: 14.3831 - val_accuracy: 0.2381\n",
            "Epoch 4/5\n",
            "3/3 [==============================] - 26s 7s/step - loss: 12.4218 - accuracy: 0.2143 - val_loss: 3.2729 - val_accuracy: 0.1429\n",
            "Epoch 5/5\n",
            "3/3 [==============================] - 23s 6s/step - loss: 4.6003 - accuracy: 0.1714 - val_loss: 2.8336 - val_accuracy: 0.2381\n"
          ]
        },
        {
          "output_type": "display_data",
          "data": {
            "text/plain": [
              "<Figure size 432x288 with 1 Axes>"
            ],
            "image/png": "[encoded data removed]"
          },
          "metadata": {
            "needs_background": "light"
          }
        }
      ],
      "source": [
        "import matplotlib.pyplot as plt\n",
        "from keras.utils import np_utils\n",
        "from tensorflow.keras.utils import to_categorical\n",
        "from keras.models import Sequential\n",
        "from keras.layers.convolutional import Conv2D, MaxPooling2D\n",
        "from tensorflow.keras.optimizers import SGD, RMSprop\n",
        "from keras.layers import Dense,Flatten, Dropout\n",
        "import numpy as np\n",
        "from tensorflow.keras.preprocessing.image import ImageDataGenerator\n",
        "from tensorflow.keras.preprocessing import image\n",
        "train_path = '/content/drive/MyDrive/Money/'\n",
        "train = ImageDataGenerator(rescale = 1./255,\n",
        "                           width_shift_range=0.2,\n",
        "                           rotation_range=40,\n",
        "                           shear_range=0.2,\n",
        "                           height_shift_range=0.2,\n",
        "                           zoom_range=0.2,\n",
        "                           fill_mode='nearest',\n",
        "                           horizontal_flip=True)\n",
        "validation = ImageDataGenerator(rescale = 1./255)\n",
        "\n",
        "train_data = train.flow_from_directory('/content/drive/MyDrive/Money/Train/',\n",
        "                                       target_size = (700,300),\n",
        "                                       class_mode = 'categorical')\n",
        "validation_dataset = train.flow_from_directory('/content/drive/MyDrive/Money/Test/',\n",
        "                                       target_size = (700,300),\n",
        "                                       class_mode = 'categorical')\n",
        "model = Sequential()\n",
        "model.add(Conv2D(32,(3,3),activation='relu',kernel_initializer='he_uniform',padding ='same',input_shape=(700,300,3)))\n",
        "model.add(MaxPooling2D((2,2)))\n",
        "\n",
        "model.add(Conv2D(32,(3,3),activation='relu',kernel_initializer='he_uniform',padding ='same'))\n",
        "model.add(MaxPooling2D((2,2)))\n",
        "\n",
        "model.add(Flatten())\n",
        "model.add(Dense(64,activation='relu',kernel_initializer='he_uniform'))\n",
        "model.add(Dropout(0.2))\n",
        "model.add(Dense(7,activation='softmax'))\n",
        "\n",
        "model.compile(optimizer='adam',loss='categorical_crossentropy',metrics=['accuracy'])\n",
        "history = model.fit(train_data,epochs=5,batch_size=128,validation_data=validation_dataset,verbose=1)\n",
        "plt.plot(history.history['accuracy'])\n",
        "plt.plot(history.history['val_accuracy'])\n",
        "plt.title('accuracy of Tien Vn')\n",
        "plt.ylabel('accuracy')\n",
        "plt.xlabel('epoch')\n",
        "plt.legend(['train','validation'],loc='upper left')\n",
        "plt.show()"
      ]
    },
    {
      "cell_type": "code",
      "source": [
        ""
      ],
      "metadata": {
        "id": "ruIeIVbdY6XD"
      },
      "execution_count": null,
      "outputs": []
    }
  ]
}
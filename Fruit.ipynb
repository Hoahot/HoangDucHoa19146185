{
  "nbformat": 4,
  "nbformat_minor": 0,
  "metadata": {
    "colab": {
      "name": "Fruit.ipynb",
      "provenance": [],
      "authorship_tag": "ABX9TyM+hQ8L+qEKVDna6wdVpDhu",
      "include_colab_link": true
    },
    "kernelspec": {
      "name": "python3",
      "display_name": "Python 3"
    },
    "language_info": {
      "name": "python"
    }
  },
  "cells": [
    {
      "cell_type": "markdown",
      "metadata": {
        "id": "view-in-github",
        "colab_type": "text"
      },
      "source": [
        "<a href=\"https://colab.research.google.com/github/Hoahot/HoangDucHoa19146185/blob/main/Fruit.ipynb\" target=\"_parent\"><img src=\"https://colab.research.google.com/assets/colab-badge.svg\" alt=\"Open In Colab\"/></a>"
      ]
    },
    {
      "cell_type": "code",
      "execution_count": 4,
      "metadata": {
        "colab": {
          "base_uri": "https://localhost:8080/",
          "height": 503
        },
        "id": "5eFWjnHNtX_R",
        "outputId": "3f92c32f-df24-4f06-9d4a-0a56622185f8"
      },
      "outputs": [
        {
          "output_type": "stream",
          "name": "stdout",
          "text": [
            "Found 80 images belonging to 8 classes.\n",
            "Found 26 images belonging to 8 classes.\n",
            "Epoch 1/5\n",
            "3/3 [==============================] - 43s 16s/step - loss: 189.9281 - accuracy: 0.1000 - val_loss: 91.6687 - val_accuracy: 0.1154\n",
            "Epoch 2/5\n",
            "3/3 [==============================] - 26s 10s/step - loss: 89.5711 - accuracy: 0.1000 - val_loss: 45.1955 - val_accuracy: 0.1154\n",
            "Epoch 3/5\n",
            "3/3 [==============================] - 26s 8s/step - loss: 41.5579 - accuracy: 0.2000 - val_loss: 10.9112 - val_accuracy: 0.1154\n",
            "Epoch 4/5\n",
            "3/3 [==============================] - 24s 7s/step - loss: 15.4601 - accuracy: 0.1125 - val_loss: 5.7226 - val_accuracy: 0.0769\n",
            "Epoch 5/5\n",
            "3/3 [==============================] - 24s 7s/step - loss: 6.3089 - accuracy: 0.1375 - val_loss: 2.0974 - val_accuracy: 0.2308\n"
          ]
        },
        {
          "output_type": "display_data",
          "data": {
            "text/plain": [
              "<Figure size 432x288 with 1 Axes>"
            ],
            "image/png": "[encoded data removed]"
          },
          "metadata": {
            "needs_background": "light"
          }
        }
      ],
      "source": [
        "import matplotlib.pyplot as plt\n",
        "from keras.utils import np_utils\n",
        "from tensorflow.keras.utils import to_categorical\n",
        "from keras.models import Sequential\n",
        "from keras.layers.convolutional import Conv2D, MaxPooling2D\n",
        "from tensorflow.keras.optimizers import SGD, RMSprop\n",
        "from keras.layers import Dense,Flatten, Dropout\n",
        "import numpy as np\n",
        "from tensorflow.keras.preprocessing.image import ImageDataGenerator\n",
        "from tensorflow.keras.preprocessing import image\n",
        "train_path = '/content/drive/MyDrive/Fruit/'\n",
        "train = ImageDataGenerator(rescale = 1./255,\n",
        "                           width_shift_range=0.2,\n",
        "                           rotation_range=40,\n",
        "                           shear_range=0.2,\n",
        "                           height_shift_range=0.2,\n",
        "                           zoom_range=0.2,\n",
        "                           fill_mode='nearest',\n",
        "                           horizontal_flip=True)\n",
        "validation = ImageDataGenerator(rescale = 1./255)\n",
        "\n",
        "train_data = train.flow_from_directory('/content/drive/MyDrive/Fruit/Train/',\n",
        "                                       target_size = (700,300),\n",
        "                                       class_mode = 'categorical')\n",
        "validation_dataset = train.flow_from_directory('/content/drive/MyDrive/Fruit/Test/',\n",
        "                                       target_size = (700,300),\n",
        "                                       class_mode = 'categorical')\n",
        "model = Sequential()\n",
        "model.add(Conv2D(32,(3,3),activation='relu',kernel_initializer='he_uniform',padding ='same',input_shape=(700,300,3)))\n",
        "model.add(MaxPooling2D((2,2)))\n",
        "\n",
        "model.add(Conv2D(32,(3,3),activation='relu',kernel_initializer='he_uniform',padding ='same'))\n",
        "model.add(MaxPooling2D((2,2)))\n",
        "\n",
        "model.add(Flatten())\n",
        "model.add(Dense(64,activation='relu',kernel_initializer='he_uniform'))\n",
        "model.add(Dropout(0.2))\n",
        "model.add(Dense(8,activation='softmax'))\n",
        "\n",
        "model.compile(optimizer='adam',loss='categorical_crossentropy',metrics=['accuracy'])\n",
        "history = model.fit(train_data,epochs=5,batch_size=128,validation_data=validation_dataset,verbose=1)\n",
        "plt.plot(history.history['accuracy'])\n",
        "plt.plot(history.history['val_accuracy'])\n",
        "plt.title('accuracy of fruit')\n",
        "plt.ylabel('accuracy')\n",
        "plt.xlabel('epoch')\n",
        "plt.legend(['train','validation'],loc='upper left')\n",
        "plt.show()"
      ]
    },
    {
      "cell_type": "code",
      "source": [
        "drive.mount('/content/drive')"
      ],
      "metadata": {
        "colab": {
          "base_uri": "https://localhost:8080/"
        },
        "id": "dKTIICrUt2a3",
        "outputId": "d2304fdd-f931-4c16-d308-4d985d3670fc"
      },
      "execution_count": 1,
      "outputs": [
        {
          "output_type": "stream",
          "name": "stdout",
          "text": [
            "Mounted at /content/drive\n"
          ]
        }
      ]
    },
    {
      "cell_type": "code",
      "source": [
        ""
      ],
      "metadata": {
        "id": "Ddd0eT6Ct4Uc"
      },
      "execution_count": null,
      "outputs": []
    }
  ]
}
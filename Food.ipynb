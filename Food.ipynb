{
  "nbformat": 4,
  "nbformat_minor": 0,
  "metadata": {
    "colab": {
      "name": "Food.ipynb",
      "provenance": [],
      "collapsed_sections": [],
      "mount_file_id": "1qBWzfJgmnyoaIQCfox5s2s7hacxtcrjY",
      "authorship_tag": "ABX9TyO8xlMUApxZFuc3RFDyggtX",
      "include_colab_link": true
    },
    "kernelspec": {
      "name": "python3",
      "display_name": "Python 3"
    },
    "language_info": {
      "name": "python"
    }
  },
  "cells": [
    {
      "cell_type": "markdown",
      "metadata": {
        "id": "view-in-github",
        "colab_type": "text"
      },
      "source": [
        "<a href=\"https://colab.research.google.com/github/Hoahot/HoangDucHoa19146185/blob/main/Food.ipynb\" target=\"_parent\"><img src=\"https://colab.research.google.com/assets/colab-badge.svg\" alt=\"Open In Colab\"/></a>"
      ]
    },
    {
      "cell_type": "code",
      "execution_count": 3,
      "metadata": {
        "colab": {
          "base_uri": "https://localhost:8080/",
          "height": 503
        },
        "id": "NsBpj3livOYf",
        "outputId": "cc3c11de-6895-4f97-c567-290a8e8ed4fb"
      },
      "outputs": [
        {
          "output_type": "stream",
          "name": "stdout",
          "text": [
            "Found 92 images belonging to 8 classes.\n",
            "Found 23 images belonging to 8 classes.\n",
            "Epoch 1/5\n",
            "3/3 [==============================] - 70s 23s/step - loss: 44.3345 - accuracy: 0.1739 - val_loss: 68.0221 - val_accuracy: 0.0870\n",
            "Epoch 2/5\n",
            "3/3 [==============================] - 26s 9s/step - loss: 39.3730 - accuracy: 0.0761 - val_loss: 18.0053 - val_accuracy: 0.1304\n",
            "Epoch 3/5\n",
            "3/3 [==============================] - 27s 8s/step - loss: 16.3524 - accuracy: 0.1630 - val_loss: 5.6320 - val_accuracy: 0.2174\n",
            "Epoch 4/5\n",
            "3/3 [==============================] - 27s 9s/step - loss: 4.7196 - accuracy: 0.1522 - val_loss: 2.6495 - val_accuracy: 0.2174\n",
            "Epoch 5/5\n",
            "3/3 [==============================] - 26s 8s/step - loss: 2.2850 - accuracy: 0.1522 - val_loss: 2.0742 - val_accuracy: 0.1739\n"
          ]
        },
        {
          "output_type": "display_data",
          "data": {
            "text/plain": [
              "<Figure size 432x288 with 1 Axes>"
            ],
            "image/png": "[encoded data removed]"
          },
          "metadata": {
            "needs_background": "light"
          }
        }
      ],
      "source": [
        "import matplotlib.pyplot as plt\n",
        "from keras.utils import np_utils\n",
        "from tensorflow.keras.utils import to_categorical\n",
        "from keras.models import Sequential\n",
        "from keras.layers.convolutional import Conv2D, MaxPooling2D\n",
        "from tensorflow.keras.optimizers import SGD, RMSprop\n",
        "from keras.layers import Dense,Flatten, Dropout\n",
        "import numpy as np\n",
        "from tensorflow.keras.preprocessing.image import ImageDataGenerator\n",
        "from tensorflow.keras.preprocessing import image\n",
        "train_path = '/content/drive/MyDrive/Food/'\n",
        "train = ImageDataGenerator(rescale = 1./255,\n",
        "                           width_shift_range=0.2,\n",
        "                           rotation_range=40,\n",
        "                           shear_range=0.2,\n",
        "                           height_shift_range=0.2,\n",
        "                           zoom_range=0.2,\n",
        "                           fill_mode='nearest',\n",
        "                           horizontal_flip=True)\n",
        "validation = ImageDataGenerator(rescale = 1./255)\n",
        "\n",
        "train_data = train.flow_from_directory('/content/drive/MyDrive/Food/Train/',\n",
        "                                       target_size = (700,300),\n",
        "                                       class_mode = 'categorical')\n",
        "validation_dataset = train.flow_from_directory('/content/drive/MyDrive/Food/Test/',\n",
        "                                       target_size = (700,300),\n",
        "                                       class_mode = 'categorical')\n",
        "model = Sequential()\n",
        "model.add(Conv2D(32,(3,3),activation='relu',kernel_initializer='he_uniform',padding ='same',input_shape=(700,300,3)))\n",
        "model.add(MaxPooling2D((2,2)))\n",
        "\n",
        "model.add(Conv2D(32,(3,3),activation='relu',kernel_initializer='he_uniform',padding ='same'))\n",
        "model.add(MaxPooling2D((2,2)))\n",
        "\n",
        "model.add(Flatten())\n",
        "model.add(Dense(64,activation='relu',kernel_initializer='he_uniform'))\n",
        "model.add(Dropout(0.2))\n",
        "model.add(Dense(8,activation='softmax'))\n",
        "\n",
        "model.compile(optimizer='adam',loss='categorical_crossentropy',metrics=['accuracy'])\n",
        "history = model.fit(train_data,epochs=5,batch_size=128,validation_data=validation_dataset,verbose=1)\n",
        "plt.plot(history.history['accuracy'])\n",
        "plt.plot(history.history['val_accuracy'])\n",
        "plt.title('accuracy of Food')\n",
        "plt.ylabel('accuracy')\n",
        "plt.xlabel('epoch')\n",
        "plt.legend(['train','validation'],loc='upper left')\n",
        "plt.show()"
      ]
    },
    {
      "cell_type": "code",
      "source": [
        "from google.colab import drive\n",
        "drive.mount('/content/drive')"
      ],
      "metadata": {
        "colab": {
          "base_uri": "https://localhost:8080/"
        },
        "id": "vkhDHrlOvdNN",
        "outputId": "3ce41d5f-d61f-4fc0-bbd7-e7a213e963cc"
      },
      "execution_count": 2,
      "outputs": [
        {
          "output_type": "stream",
          "name": "stdout",
          "text": [
            "Mounted at /content/drive\n"
          ]
        }
      ]
    },
    {
      "cell_type": "code",
      "source": [
        ""
      ],
      "metadata": {
        "id": "jeehG17hvZgb"
      },
      "execution_count": null,
      "outputs": []
    }
  ]
}